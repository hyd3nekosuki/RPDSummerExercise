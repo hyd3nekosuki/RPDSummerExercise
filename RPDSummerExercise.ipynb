{
  "nbformat": 4,
  "nbformat_minor": 0,
  "metadata": {
    "colab": {
      "name": "RPDSummerExercise.ipynb",
      "provenance": [],
      "collapsed_sections": [],
      "toc_visible": true,
      "authorship_tag": "ABX9TyMCYEWH5gggxE9l5QN3sTtS",
      "include_colab_link": true
    },
    "kernelspec": {
      "name": "python3",
      "display_name": "Python 3"
    }
  },
  "cells": [
    {
      "cell_type": "markdown",
      "metadata": {
        "id": "view-in-github",
        "colab_type": "text"
      },
      "source": [
        "<a href=\"https://colab.research.google.com/github/hyd3nekosuki/RPDSummerExercise/blob/main/RPDSummerExercise.ipynb\" target=\"_parent\"><img src=\"https://colab.research.google.com/assets/colab-badge.svg\" alt=\"Open In Colab\"/></a>"
      ]
    },
    {
      "cell_type": "markdown",
      "metadata": {
        "id": "ErB6-eGIsTfr"
      },
      "source": [
        "# Google Colaboratoryを活用した拡散計算演習\n",
        "<p><img alt=\"Colaboratory logo\" height=\"45px\" src=\"https://www.nagoya-u.ac.jp/common/img/logo.gif\" align=\"left\" hspace=\"10px\" vspace=\"0px\"></p> \n",
        "<h1> 遠藤 知弘 </h1> \n"
      ]
    },
    {
      "cell_type": "markdown",
      "metadata": {
        "id": "7qsZQrsJtIsZ"
      },
      "source": [
        "# [Google Colaboratory](https://colab.research.google.com/)とは？\n",
        "\n",
        "* Webブラウザから Python を記述、実行できるサービス。以下のような特長あり。\n",
        "  + 計算環境の構築が不要 \n",
        "  + 作ったプログラム(.ipynb形式ファイル)を簡単に共有できる\n",
        "  + GPU への無料アクセス\n"
      ]
    },
    {
      "cell_type": "markdown",
      "metadata": {
        "id": "pbVwE-ZohjKw"
      },
      "source": [
        "# Pythonパッケージのインポート(一種のおまじない)\n",
        "\n",
        "- NumPy: 多次元配列を利用したり、それらの操作のために使用する高度な数学関数ライブラリ群\n",
        "- matplotlib.pyplot: グラフの描画\n",
        "- Numba: Pythonプログラムを高速化するために使用\n",
        "\n",
        "\n",
        "Google Colabにおけるコード実行練習として、**「Shift+Enter」**キーを押して以下のコードを**実行**してみよう。\n"
      ]
    },
    {
      "cell_type": "code",
      "metadata": {
        "id": "xxLkWPMJWnDq"
      },
      "source": [
        "import numpy as np\n",
        "import matplotlib.pyplot as plt\n",
        "from numba import f8, i8, types\n",
        "from numba.experimental import jitclass\n",
        "from numba import jit, njit\n",
        "from numba.typed import List"
      ],
      "execution_count": 1,
      "outputs": []
    },
    {
      "cell_type": "markdown",
      "metadata": {
        "id": "SGX9Kn1khia3"
      },
      "source": [
        "# 使用する多群断面積データの設定\n",
        "\n",
        "\n",
        "[KUCA-C架台の2群定数](https://www.kyoto-up.or.jp/book.php?id=1700)\n",
        "![原子炉物理実験](https://www.kyoto-up.or.jp/upload/book/book_1700_20101008094712.jpg)\n",
        "\n",
        "[UTR-KINKIの2群定数](https://doi.org/10.1016/0306-4549(91)90048-3)"
      ]
    },
    {
      "cell_type": "markdown",
      "metadata": {
        "id": "0XmXzW4TQuoB"
      },
      "source": [
        "XSDataクラスの説明については、第52回夏期セミナーテキストのpp.96–100を参考。\n",
        "\n",
        "\n",
        "以下のプログラムを「Shift+Enter」で実行しておく。"
      ]
    },
    {
      "cell_type": "code",
      "metadata": {
        "id": "Wzb1-vsohNpF"
      },
      "source": [
        "# 多群断面積のクラス\n",
        "@jitclass([(\"name\", types.string), (\"NG\", i8),\n",
        "    (\"SigA\", f8[:]), (\"SigR\", f8[:]), (\"nuSigF\", f8[:]), (\"chi\", f8[:]), (\"D\", f8[:]), (\"SigTr\", f8[:]), (\"SigS\", f8[:,:]),\n",
        "    (\"SigA0\", f8[:]), (\"SigR0\", f8[:]), (\"nuSigF0\", f8[:]), (\"chi0\", f8[:]), (\"D0\", f8[:]), (\"SigTr0\", f8[:]), (\"SigS0\", f8[:,:]) ])\n",
        "class XSData:\n",
        "    def __init__(self, name, SigA, nuSigF, chi, D, SigS):\n",
        "        self.name   = name\n",
        "        self.SigA   = SigA\n",
        "        self.nuSigF = nuSigF\n",
        "        self.chi    = chi\n",
        "        self.D      = D\n",
        "        self.SigS   = SigS\n",
        "        self.NG     = len(self.SigA)\n",
        "        self.calcSigTrFromD()\n",
        "        self.balanceSigSgg()\n",
        "        self.backupOriginalData()\n",
        "\n",
        "    def calcSigTrFromD(self):\n",
        "        self.SigTr = 1.0/(3.0*self.D)\n",
        "\n",
        "    def balanceSigSgg(self):\n",
        "        # 断面積バランスを満足するように自群散乱を補正\n",
        "        self.SigS -= np.diag(self.SigA+self.SigS.sum(axis=1) - self.SigTr)\n",
        "        self.calcSigR()\n",
        "\n",
        "    def calcSigR(self):\n",
        "        self.SigR = self.SigA.copy()\n",
        "        for g in range(self.NG):\n",
        "            self.SigR[g] += (self.SigS[g,:].sum() - self.SigS[g,g]) # 除去断面積の計算\n",
        "\n",
        "    def calcKinf(self):\n",
        "        if self.chi.sum()==0:\n",
        "            return 0.0\n",
        "        else:\n",
        "            flux = np.linalg.solve( (np.diag(self.SigTr) - self.SigS.T), self.chi/self.chi.sum() )\n",
        "            kinf = self.nuSigF.dot( flux )\n",
        "            return kinf\n",
        "\n",
        "    def backupOriginalData(self):\n",
        "        self.SigA0   = self.SigA.copy()\n",
        "        self.SigR0   = self.SigR.copy()\n",
        "        self.nuSigF0 = self.nuSigF.copy()\n",
        "        self.chi0    = self.chi.copy()\n",
        "        self.D0      = self.D.copy()\n",
        "        self.SigTr0  = self.SigTr.copy()\n",
        "        self.SigS0   = self.SigS.copy()\n",
        "\n",
        "    def resetData(self):\n",
        "        self.SigA   = self.SigA0.copy()\n",
        "        self.SigR   = self.SigR0.copy()\n",
        "        self.nuSigF = self.nuSigF0.copy()\n",
        "        self.chi    = self.chi0.copy()\n",
        "        self.D      = self.D0.copy()\n",
        "        self.SigTr  = self.SigTr0.copy()\n",
        "        self.SigS   = self.SigS0.copy()\n",
        "\n",
        "    def perturbedSigA(self, p=None, g=None): # ad-hoc\n",
        "        if p==None:\n",
        "            p=1.0\n",
        "        if g == None:\n",
        "            g=0\n",
        "        self.SigA[g] = p * self.SigA0[g]\n",
        "        self.SigTr[g] = (p-1) * self.SigA0[g] + self.SigTr0[g] # 拡散係数Dは摂動させない\n",
        "        self.calcSigR()"
      ],
      "execution_count": 2,
      "outputs": []
    },
    {
      "cell_type": "markdown",
      "metadata": {
        "id": "rxt9ZiOC3QGW"
      },
      "source": [
        "## 習うより慣れろ方式で__XSDataクラスのリスト(matlist)__を使ってみよう"
      ]
    },
    {
      "cell_type": "markdown",
      "metadata": {
        "id": "yiJj6rRLdi21"
      },
      "source": [
        "XSDataクラスを使用するにあたって、ここまでのプログラムを実行しておく。\n",
        "\n",
        "あるいは、Google Colabメニュー画面より\n",
        "\n",
        "**「ランタイム」→「より前のセルを実行」**　あるいは\n",
        "\n",
        "**「ランタイム」→「すべてのセルを実行」**\n",
        "\n",
        "と実行してもよい。"
      ]
    },
    {
      "cell_type": "code",
      "metadata": {
        "id": "GLChEwoHlrZa"
      },
      "source": [
        "matlist = List()\n",
        "matlist.append(XSData(name=\"KUCA_C30\",  SigA=np.array([0.00320, 0.0930]),    nuSigF=np.array([0.0, 0.168*1.121]),   chi=np.array([1.0,0.0]), D=np.array([1.58, 0.271]),   SigS=np.array([[0.0, 0.0178], [0.0, 0.0]]) ) )\n",
        "matlist.append(XSData(name=\"KUCA_C35\",  SigA=np.array([0.00286, 0.0850]),    nuSigF=np.array([0.0, 0.149*1.092]),   chi=np.array([1.0,0.0]), D=np.array([1.54, 0.237]),   SigS=np.array([[0.0, 0.0212], [0.0, 0.0]]) ) )\n",
        "matlist.append(XSData(name=\"KUCA_C45\",  SigA=np.array([0.00237, 0.0724]),    nuSigF=np.array([0.0, 0.121*1.064]),   chi=np.array([1.0,0.0]), D=np.array([1.50, 0.203]),   SigS=np.array([[0.0, 0.0254], [0.0, 0.0]]) ) )\n",
        "matlist.append(XSData(name=\"water\",     SigA=np.array([0.0,     0.0191]),    nuSigF=np.array([0.0, 0.0]),           chi=np.array([0.0,0.0]), D=np.array([1.41, 0.117]),   SigS=np.array([[0.0, 0.0476], [0.0, 0.0]]) ) )\n",
        "matlist.append(XSData(name=\"UTR\",       SigA=np.array([1.592e-3, 5.086e-2]), nuSigF=np.array([1.817e-3, 7.335e-2]), chi=np.array([1.0,0.0]), D=np.array([1.458, 0.2144]), SigS=np.array([[0.0, 3.556e-2], [0.0, 0.0]]) ) )\n",
        "matlist.append(XSData(name=\"inner_refl\",SigA=np.array([1.169e-5, 2.510e-4]), nuSigF=np.array([0.0, 0.0]),           chi=np.array([0.0,0.0]), D=np.array([1.202, 0.8223]), SigS=np.array([[0.0, 2.529e-3], [0.0, 0.0]]) ) )\n",
        "matlist.append(XSData(name=\"graphite\",  SigA=np.array([3.048e-4, 1.798e-3]), nuSigF=np.array([0.0, 0.0]),           chi=np.array([0.0,0.0]), D=np.array([1.231, 0.6793]), SigS=np.array([[0.0, 3.439e-3], [0.0, 0.0]]) ) )\n",
        "matlist.append(XSData(name=\"KUCA_C35PT\",SigA=np.array([0.00286, 0.0850+0.01]),nuSigF=np.array([0.0, 0.149*1.092]),   chi=np.array([1.0,0.0]), D=np.array([1.54, 0.237]),   SigS=np.array([[0.0, 0.0212], [0.0, 0.0]]) ) )\n",
        "matlist.append(XSData(name=\"waterPT\",   SigA=np.array([0.0,     0.0191+0.01]),nuSigF=np.array([0.0, 0.0]),           chi=np.array([0.0,0.0]), D=np.array([1.41, 0.117]),   SigS=np.array([[0.0, 0.0476], [0.0, 0.0]]) ) )\n"
      ],
      "execution_count": 3,
      "outputs": []
    },
    {
      "cell_type": "markdown",
      "metadata": {
        "id": "I124vvUieqZV"
      },
      "source": [
        "以下のプログラムのうち、配列matidの入力を変更して実行してみよう。"
      ]
    },
    {
      "cell_type": "code",
      "metadata": {
        "id": "HxjpydOb27-M",
        "colab": {
          "base_uri": "https://localhost:8080/"
        },
        "outputId": "d3f3052a-6e70-45b7-b9a9-62bc5be04e21"
      },
      "source": [
        "NX = 5\n",
        "\n",
        "\"\"\"\n",
        "matid = np.full(NX, 3, dtype=int)\n",
        "matid[0:2] = 1\n",
        "\"\"\"\n",
        "matid = np.arange(5)\n",
        "\n",
        "print(matid)\n",
        "for i in range(NX):\n",
        "    #print(matlist[matid[i]].name, matlist[matid[i]].SigA)\n",
        "    print(matlist[matid[i]].name, matlist[matid[i]].calcKinf())"
      ],
      "execution_count": 4,
      "outputs": [
        {
          "output_type": "stream",
          "text": [
            "[0 1 2 3 4]\n"
          ],
          "name": "stdout"
        },
        {
          "output_type": "stream",
          "text": [
            "<string>:3: NumbaPerformanceWarning: np.dot() is faster on contiguous arrays, called on (array(float64, 1d, A), array(float64, 1d, C))\n"
          ],
          "name": "stderr"
        },
        {
          "output_type": "stream",
          "text": [
            "KUCA_C30 1.7164559139784963\n",
            "KUCA_C35 1.6866703828663645\n",
            "KUCA_C45 1.6264707930375202\n",
            "water 0.0\n",
            "UTR 1.4293019983078323\n"
          ],
          "name": "stdout"
        }
      ]
    },
    {
      "cell_type": "markdown",
      "metadata": {
        "id": "yx-BxfWUiCdn"
      },
      "source": [
        "# 拡散計算ソルバー用の関数(部品)\n",
        "\n",
        "各関数の説明については、第52回夏期セミナーテキストのpp.105–108を参考。\n",
        "\n",
        "これ以降のプログラムを「Shift+Enter」で実行しておく。"
      ]
    },
    {
      "cell_type": "markdown",
      "metadata": {
        "id": "zD6Tl2v-gT3G"
      },
      "source": [
        "## 係数行列Aを計算する関数\n",
        "\n",
        "1次元平板体系における拡散計算を実施する際に必要となる係数行列(三重対角行列の3つの要素A0, Axm, Axp)を計算する。プログラム中では以下のようにして呼び出して使用する。\n",
        "\n",
        "    A0, Axm, Axp = calcMatrixA(matlist, matid, dx, bcm, bcp, B2)\n"
      ]
    },
    {
      "cell_type": "code",
      "metadata": {
        "id": "oBk0uWyga9RF"
      },
      "source": [
        "# 係数行列Aの設定\n",
        "@njit(cache=True)\n",
        "def calcMatrixA(matlist, matid, dx, bcm=None, bcp=None, B2=None):\n",
        "    NX = len(dx)\n",
        "    NG = matlist[0].NG\n",
        "\n",
        "    if bcm == None:\n",
        "       bcm = \"vacuum\"\n",
        "    if bcp == None:\n",
        "       bcp = \"vacuum\"\n",
        "    if B2 == None:\n",
        "       B2 = 0.0\n",
        "    \n",
        "    A0  = np.zeros((NG, NX))\n",
        "    Axm = np.zeros((NG, NX))\n",
        "    Axp = np.zeros((NG, NX))\n",
        "\n",
        "    for g in range(NG):\n",
        "        A0g  = A0[g,:]\n",
        "        Axmg = Axm[g,:]\n",
        "        Axpg = Axp[g,:]\n",
        "        for i in range(NX):\n",
        "            mat0 = matlist[matid[i]]\n",
        "\n",
        "            D0 = mat0.D[g]\n",
        "            dx0 = dx[i]\n",
        "            if i==0:\n",
        "                if bcm == \"vacuum\":\n",
        "                    Axmg[i] = -D0/((2.1312*D0 + dx0/2)*dx0)\n",
        "                elif bcm == \"zero\":\n",
        "                    Axmg[i] = -D0/((dx0/2)*dx0)\n",
        "                else:\n",
        "                    Axmg[i] = 0.0\n",
        "            else:\n",
        "                Dm  = matlist[matid[i-1]].D[g]\n",
        "                dxm = dx[i-1]\n",
        "                Axmg[i] = -2*Dm*D0/((Dm*dx0 + D0*dxm)*dx0)\n",
        "\n",
        "            if i==(NX-1):\n",
        "                if bcp == \"vacuum\":\n",
        "                    Axpg[i] = -D0/((2.1312*D0 + dx0/2)*dx0)\n",
        "                elif bcp == \"zero\":\n",
        "                    Axpg[i] = -D0/((dx0/2)*dx0)\n",
        "                else:\n",
        "                    Axpg[i] = 0.0\n",
        "            else:\n",
        "                Dp  = matlist[matid[i+1]].D[g]\n",
        "                dxp = dx[i+1]\n",
        "                Axpg[i] = -2*D0*Dp/((D0*dxp + Dp*dx0)*dx0)\n",
        "\n",
        "            #A0g[i] = mat0.SigA[g]+D0*B2 + (mat0.SigS[g,:].sum()-mat0.SigS[g,g])  - (Axmg[i] + Axpg[i])\n",
        "            A0g[i] = mat0.SigR[g]+D0*B2 - (Axmg[i] + Axpg[i])\n",
        "\n",
        "    return A0, Axm, Axp"
      ],
      "execution_count": 5,
      "outputs": []
    },
    {
      "cell_type": "markdown",
      "metadata": {
        "id": "1uXor2sahKJV"
      },
      "source": [
        "## 核分裂中性子源を計算する関数\n",
        "\n",
        "核分裂中性子源の空間分布$P(x)$および、その体積積分値を計算する。プログラム中では以下のようにして呼び出して使用する。\n",
        "\n",
        "    keff = calcProductionRate(flux, P, matlist, matid, dx)\n",
        "\n",
        "\n",
        "この関数で核分裂中性子源$P(x)$を計算した後、得られた値全体をkeffで割って規格化したければ、以下のように記述すればよい。\n",
        "\n",
        "    P /= keff"
      ]
    },
    {
      "cell_type": "code",
      "metadata": {
        "id": "mPR7yvmUWyDB"
      },
      "source": [
        "# 核分裂中性子数空間分布と その積分値の計算\n",
        "@njit(cache=True)\n",
        "def calcProductionRate(flux, P, matlist, matid, dx):\n",
        "    NX = matid.shape[0]\n",
        "    totalFission = 0.0\n",
        "    for i in range(NX):\n",
        "        mat0 = matlist[matid[i]]\n",
        "        fission = (mat0.nuSigF[:]*flux[:, i]).sum() # <- forward\n",
        "        # fission = mat0.nuSigF[:].dot(flux[:, i]) # <- forward\n",
        "        P[i] = fission\n",
        "        totalFission += mat0.chi[:].sum()*fission*dx[i] # <- forward\n",
        "    return totalFission"
      ],
      "execution_count": 6,
      "outputs": []
    },
    {
      "cell_type": "markdown",
      "metadata": {
        "id": "bhtEaUCCiOj-"
      },
      "source": [
        "## エネルギーg群の中性子源を計算する関数\n",
        "\n",
        "現時点での核分裂中性子源分布$P(x)$、および中性子束$\\phi_{g}(x)$の推定値から、第g群の中性子源Qgを計算する。プログラム中では以下のようにして呼び出して使用する。\n",
        "\n",
        "    Qg = calcSourceG(g, flux, P, matlist, matid)"
      ]
    },
    {
      "cell_type": "code",
      "metadata": {
        "id": "AkSMq7_7rpNy"
      },
      "source": [
        "# g群の中性子源計算\n",
        "@njit(cache=True)\n",
        "def calcSourceG(g, flux, P, matlist, matid):\n",
        "    NG = flux.shape[0]\n",
        "    NX = flux.shape[1]\n",
        " \n",
        "    Qg = np.zeros(NX)\n",
        "    for i in range(NX):\n",
        "        mat0 = matlist[matid[i]]\n",
        "        Qg[i] = mat0.chi[g] * P[i] # <- forward\n",
        "        for gg in range(NG):\n",
        "            if g != gg:\n",
        "                Qg[i] += mat0.SigS[gg,g]*flux[gg,i] # <- forward\n",
        "    return Qg"
      ],
      "execution_count": 7,
      "outputs": []
    },
    {
      "cell_type": "markdown",
      "metadata": {
        "id": "yHdfv52OhYmg"
      },
      "source": [
        "# 数値解法\n",
        "\n",
        "各関数の説明については、第52回夏期セミナーテキストのpp.105–111を参考。\n",
        "\n",
        "これ以降のプログラムを「Shift+Enter」で実行しておく。"
      ]
    },
    {
      "cell_type": "markdown",
      "metadata": {
        "id": "0MqpOSsfjnHX"
      },
      "source": [
        "## ヤコビ法によるエネルギーg群の中性子束計算\n",
        "\n",
        "あらかじめ計算済みのg群中性子源Qgに対して、[ヤコビ法](https://mathworld.wolfram.com/JacobiMethod.html)によりg群中性子束を計算する。プログラム中では以下のようにして呼び出して使用する。\n",
        "\n",
        "    flux[g,:] = diffusionSweepJacobiG(A0[g,:], Axm[g,:], Axp[g,:], flux[g,:], Qg)\n",
        "\n",
        "なお、上記関数を使用する際には、配列のスライス[g,:]によってg群に対応するA0, Axm, Axpを入力変数として与えて、g群に対応する中性子束flux[g,:]に対して計算結果を代入している。"
      ]
    },
    {
      "cell_type": "code",
      "metadata": {
        "id": "ZdokZ3H7iSek"
      },
      "source": [
        "# ヤコビ法\n",
        "@njit(\"(f8[:], f8[:], f8[:], f8[:], f8[:])\", cache=True)\n",
        "def diffusionSweepJacobiG(A0g, Axmg, Axpg, fluxg, Qg):\n",
        "    NX = fluxg.shape[0]\n",
        "\n",
        "    fluxgBefore = fluxg.copy()\n",
        "    fluxgAfter  = fluxg.copy()\n",
        "    for i in range(NX):\n",
        "        s = Qg[i]\n",
        "        if i!=0:\n",
        "            s -= Axmg[i] * fluxgBefore[i-1]\n",
        "        if i!=(NX-1):\n",
        "            s -= Axpg[i] * fluxgBefore[i+1]\n",
        "        fluxgAfter[i] = s / A0g[i]\n",
        "\n",
        "    return fluxgAfter"
      ],
      "execution_count": 8,
      "outputs": []
    },
    {
      "cell_type": "markdown",
      "metadata": {
        "id": "xM9j066DlgAP"
      },
      "source": [
        "## ガウスザイデル法によるエネルギーg群の中性子束計算\n",
        "\n",
        "あらかじめ計算済みのg群中性子源Qgに対して、[ガウスザイデル法](https://mathworld.wolfram.com/Gauss-SeidelMethod.html)によりg群中性子束を計算する。プログラム中では以下のようにして呼び出して使用する。\n",
        "\n",
        "    flux[g,:] =  diffusionSweepGaussSeidelG(A0[g,:], Axm[g,:], Axp[g,:], flux[g,:], Qg)\n"
      ]
    },
    {
      "cell_type": "code",
      "metadata": {
        "id": "_dzcJuF2xt06"
      },
      "source": [
        "# ガウスザイデル法\n",
        "@njit(\"(f8[:], f8[:], f8[:], f8[:], f8[:])\", cache=True)\n",
        "def diffusionSweepGaussSeidelG(A0g, Axmg, Axpg, fluxg, Qg):\n",
        "    NX = fluxg.shape[0]\n",
        "\n",
        "    fluxgAfter  = fluxg.copy()\n",
        "    for i in range(NX):\n",
        "        s = Qg[i]\n",
        "        if i!=0:\n",
        "            s -= Axmg[i] * fluxgAfter[i-1] # <-\n",
        "        if i!=(NX-1):\n",
        "            s -= Axpg[i] * fluxgAfter[i+1] # <-\n",
        "        fluxgAfter[i] = s / A0g[i]\n",
        "\n",
        "    return fluxgAfter"
      ],
      "execution_count": 9,
      "outputs": []
    },
    {
      "cell_type": "markdown",
      "metadata": {
        "id": "poMPlqhTmk2X"
      },
      "source": [
        "## SOR法によるエネルギーg群の中性子束計算\n",
        "\n",
        "あらかじめ計算済みのg群中性子源Qgに対して、[SOR法](https://mathworld.wolfram.com/SuccessiveOverrelaxationMethod.html)によりg群中性子束を計算する。プログラム中では以下のようにして呼び出して使用する。\n",
        "\n",
        "    flux[g,:] = diffusionSweepSORG(A0[g,:], Axm[g,:], Axp[g,:], flux[g,:], Qg, omega=1.5)"
      ]
    },
    {
      "cell_type": "code",
      "metadata": {
        "id": "91UW5ir0kGFP"
      },
      "source": [
        "# 逐次加速緩和法(Successive Over-Relaxation, SOR法)\n",
        "@njit(\"(f8[:], f8[:], f8[:], f8[:], f8[:],f8)\", cache=True)\n",
        "def diffusionSweepSORG(A0g, Axmg, Axpg, fluxg, Qg, omega=None):\n",
        "    if omega is None:\n",
        "        omega = 1.0\n",
        "    NX = fluxg.shape[0]\n",
        "\n",
        "    fluxgAfter  = fluxg.copy()\n",
        "    for i in range(NX):\n",
        "        s = Qg[i]\n",
        "        if i!=0:\n",
        "            s -= Axmg[i] * fluxgAfter[i-1]\n",
        "        if i!=(NX-1):\n",
        "            s -= Axpg[i] * fluxgAfter[i+1]\n",
        "        fluxgAfter[i] = omega*(s / A0g[i]) + (1-omega)*fluxg[i]\n",
        "\n",
        "    return fluxgAfter"
      ],
      "execution_count": 10,
      "outputs": []
    },
    {
      "cell_type": "markdown",
      "metadata": {
        "id": "JYSqPnSAm1Z_"
      },
      "source": [
        "## 係数行列**A**のLU分解を行う関数\n",
        "\n",
        "あらかじめ計算済みの係数行列**A**に対して[LU分解](https://mathworld.wolfram.com/LUDecomposition.html)を実施し、行列**L**, **U**の要素を計算する。プログラム中では以下のようにして呼び出して使用する。\n",
        "\n",
        "    L, U = decomposeLU(A0, Axm, Axp)\n",
        "\n",
        "なお、各エネルギー群に対してL,Uを計算している点に注意すること。詳細については第52回夏期セミナーテキストのpp.109–110を参考。"
      ]
    },
    {
      "cell_type": "code",
      "metadata": {
        "id": "Qptt7I9C5pvZ"
      },
      "source": [
        "# g群のLU分解\n",
        "@njit(\"(f8[:],f8[:],f8[:])\", cache=True)\n",
        "def decomposeLUg(A0g, Axmg, Axpg):\n",
        "    NX = len(A0g)\n",
        "\n",
        "    Lg =  np.zeros(NX)\n",
        "    Ug =  np.zeros(NX)\n",
        "    for i in range(NX):\n",
        "        if i==0:\n",
        "            Lg[i] = 0.0\n",
        "            Ug[i] = A0g[i]\n",
        "        else:\n",
        "            Lg[i] = Axmg[i]/Ug[i-1]\n",
        "            Ug[i] = A0g[i] - Axpg[i-1]*Lg[i]\n",
        "    return Lg, Ug"
      ],
      "execution_count": 11,
      "outputs": []
    },
    {
      "cell_type": "code",
      "metadata": {
        "id": "L80rxLO9kCOn"
      },
      "source": [
        "# LU分解\n",
        "@njit(\"(f8[:,:],f8[:,:],f8[:,:])\", cache=True)\n",
        "def decomposeLU(A0, Axm, Axp):\n",
        "    NG = A0.shape[0]\n",
        "    NX = A0.shape[1]\n",
        "\n",
        "    L =  np.zeros((NG,NX))\n",
        "    U =  np.zeros((NG,NX))\n",
        "    \n",
        "    for g in range(NG):\n",
        "        L[g,:], U[g,:] = decomposeLUg(A0[g,:], Axm[g,:], Axp[g,:])\n",
        "    return L, U"
      ],
      "execution_count": 12,
      "outputs": []
    },
    {
      "cell_type": "markdown",
      "metadata": {
        "id": "SSkpwiHlnpGP"
      },
      "source": [
        "## LU分解を利用したエネルギーg群の中性子束計算\n",
        "\n",
        "あらかじめ計算済みのLU分解後の係数L,Uを用いて、前進消去・後退代入による直接解法によりg群の中性子束を計算する。プログラム中では以下のようにして呼び出して使用する。\n",
        "\n",
        "    flux[g,:] = diffusionSweepUsingLUG(Axp[g,:], L[g,:], U[g,:], Qg)\n",
        "\n",
        "なお、上記関数を使用する際には、配列のスライス[g,:]によってg群に対応するAxp, L, Uを入力変数として与えている。"
      ]
    },
    {
      "cell_type": "code",
      "metadata": {
        "id": "rUC7ecg7imVD"
      },
      "source": [
        "# LU分解を利用したx方向のdiffusion sweep\n",
        "@njit(\"(f8[:], f8[:], f8[:], f8[:])\", cache=True)\n",
        "def diffusionSweepUsingLUG(Axpg, Lg, Ug, Qg):\n",
        "    NX = Axpg.shape[0]\n",
        "    B = np.zeros(NX)\n",
        "    BBefore = 0.0\n",
        "    for i in range(NX):\n",
        "        B[i] = Qg[i] - BBefore*Lg[i]\n",
        "        BBefore = B[i]\n",
        "\n",
        "    fluxAfter = 0.0\n",
        "    fluxgAfter = np.zeros(NX)\n",
        "    for i in range(NX-1, -1, -1):\n",
        "        fluxAfter = (B[i] - Axpg[i]*fluxAfter) / Ug[i]\n",
        "        fluxgAfter[i] = fluxAfter\n",
        "\n",
        "    return fluxgAfter"
      ],
      "execution_count": 13,
      "outputs": []
    },
    {
      "cell_type": "markdown",
      "metadata": {
        "id": "06EMkhlLiRfn"
      },
      "source": [
        "# 演習1 べき乗法による$k_{\\mathrm{eff}}$固有値計算ソルバーの作成\n",
        "\n",
        "第52回夏期セミナーテキストのpp.111–116を参考。\n",
        "\n",
        "- 1から全て自分で作るのではなく、上で既に定義されている関数(部品)を上手に組み合わせて作成する\n",
        "  + 物質指定：__matlist__の定義コードを予め実行しておくこと\n",
        "- 計算速度(外部反復回数が多い/少ない)は拘らず、$k_{\\mathrm{eff}}$を求めてみよう\n",
        "- 上級者は「反復回数が少なく済む」ような計算コードを作ってみよう\n"
      ]
    },
    {
      "cell_type": "markdown",
      "metadata": {
        "id": "60bkqGc4cWPC"
      },
      "source": [
        "## べき乗法作成にあたってfor, if文の練習"
      ]
    },
    {
      "cell_type": "code",
      "metadata": {
        "id": "Gy18vLK7cZ_1"
      },
      "source": [
        "# i=0から10まで、10回繰り返す\n",
        "N = 100\n",
        "for i in range(N):\n",
        "    print(i)\n",
        "    if i > 10:\n",
        "        break"
      ],
      "execution_count": null,
      "outputs": []
    },
    {
      "cell_type": "markdown",
      "metadata": {
        "id": "3yYC-YCBceSY"
      },
      "source": [
        "for文の簡単な練習問題として、実効増倍率$k_\\mathrm{eff}$の体系において$S$個の中性子が核分裂連鎖反応によって何個の子孫中性子を生むのか計算してみよう。\n",
        "\n",
        "以下のプログラムそのままだと計算が実行できないため、\n",
        "\n",
        "    children =\n",
        "の箇所を適切に修正して、プログラムを実行してみよう。"
      ]
    },
    {
      "cell_type": "code",
      "metadata": {
        "id": "SwFw1MqQchLi"
      },
      "source": [
        "S = 100    # 源の中性子数\n",
        "keff = 0.5 # 実効増倍率\n",
        "\n",
        "sum = 0.0\n",
        "parent = S\n",
        "for i in range(1, 101, 1):\n",
        "    children = \n",
        "    sum += children\n",
        "    #print(children)\n",
        "    parent = children\n",
        "\n",
        "print(\"sum = {}\".format(sum))\n",
        "print(\"reference = {}\".format(S*keff/(1-keff)))"
      ],
      "execution_count": null,
      "outputs": []
    },
    {
      "cell_type": "markdown",
      "metadata": {
        "id": "0FJg9_IkcoKx"
      },
      "source": [
        "## べき乗法による無限均質体系の$k_{\\infty}計算$\n",
        "\n",
        "べき乗法の原理を理解することができるよう、参考までに、無限均質体系の場合についてべき乗法による無限増倍率の計算プログラム例を以下で示す。"
      ]
    },
    {
      "cell_type": "code",
      "metadata": {
        "id": "B9n-CWIhcrE6"
      },
      "source": [
        "NG = matlist[0].NG  # エネルギー群数の読み込み\n",
        "print(\"energy group = {}\".format(NG))\n",
        "\n",
        "fluxBefere = np.zeros(NG)\n",
        "mat = matlist[0]\n",
        "\n",
        "B = np.diag(mat.SigTr) - mat.SigS.T\n",
        "F = mat.chi.reshape((NG,1)).dot(mat.nuSigF.reshape((1,NG)))\n",
        "\n",
        "flux = np.ones(NG).reshape((NG,1))\n",
        "P = F.dot(flux)\n",
        "kinf = P.sum()\n",
        "P /= kinf\n",
        "\n",
        "eps_kinf = 1e-7 # kinfの収束判定基準\n",
        "eps_flux = 1e-5 # 中性子束の判定基準\n",
        "kinfBefore = kinf\n",
        "fluxBefore = flux.copy()\n",
        "for outer in range(100):\n",
        "    flux = np.linalg.solve(B, P)\n",
        "    P = F.dot(flux)\n",
        "    kinf = P.sum()\n",
        "    P /= kinf\n",
        "\n",
        "    if (np.abs(kinf/kinfBefore-1) < eps_kinf ) and \\\n",
        "       (np.abs(flux/fluxBefore - 1).max() < eps_flux):\n",
        "        break\n",
        "    kinfBefore = kinf\n",
        "    fluxBefore = flux.copy()\n",
        "\n",
        "print(\"kinf(ref) = {}\".format(mat.calcKinf()) )\n",
        "print(\"kinf(power method) = {}\".format(kinf))"
      ],
      "execution_count": null,
      "outputs": []
    },
    {
      "cell_type": "markdown",
      "metadata": {
        "id": "LjSYNoE6dapX"
      },
      "source": [
        "## べき乗法による1次元平板体系における$k_{\\mathrm{eff}}計算$\n",
        "\n",
        "1次元平板体系における実効増倍率$k_\\mathrm{eff}$および基本モードの中性子束分布$\\phi_{g}(x)$の数値解が得られるように、以下プログラムのうち\n",
        "    # 1群からN群までの各エネルギー群について以下の処理を繰り返す\n",
        "        # g群中性子源項を計算\n",
        "        # g群の内部反復(ヤコビ法、ガウスザイデル法を用いる場合)\n",
        "\n",
        "    # keffと核分裂中性子源分布を更新\n",
        "    # 核分裂中性子源分布を規格化\n",
        "    # 収束判定基準を満足したら外部反復計算を終了\n",
        "の箇所について、拡散計算ソルバー用の各種関数を組み合わせてプログラムを修正し、実行してみよう。\n"
      ]
    },
    {
      "cell_type": "code",
      "metadata": {
        "id": "4rOn9BmEe4vK"
      },
      "source": [
        "NG = matlist[0].NG\n",
        "\n",
        "# 形状バックリングの設定\n",
        "y0    = 7.1 * 4\n",
        "z0    = 57.0\n",
        "delta = 8.2 # 外挿距離\n",
        "B2 = (np.pi/(y0+2*delta))**2.0 + (np.pi/(z0+2*delta))**2.0\n",
        "\n",
        "# 空間メッシュ\n",
        "NX = 120\n",
        "matid = np.zeros(NX, dtype=np.int )\n",
        "matid[0:40]   = 3\n",
        "matid[40:80]  = 1\n",
        "matid[-40:]   = 3\n",
        "\n",
        "dx = np.full(NX, 1.0)\n",
        "x = dx.cumsum() - dx/2\n",
        "\n",
        "# 係数行列の設定\n",
        "A0, Axm, Axp = calcMatrixA(matlist, matid, dx, \"vacuum\", \"vacuum\", B2)\n",
        "\n",
        "flux = np.ones((NG, NX))\n",
        "P = np.zeros(NX)\n",
        "keff = calcProductionRate(flux, P, matlist, matid, dx) # keffと核分裂中性子源分布を更新\n",
        "P /= keff    # 核分裂中性子源分布を規格化\n",
        "\n",
        "eps_keff = 1e-7\n",
        "eps_flux = 1e-5\n",
        "keffBefore = keff\n",
        "fluxBefore = flux.copy()\n",
        "for outer in range(1,5):\n",
        "    # 1群からN群までの各エネルギー群について以下の処理を繰り返す\n",
        "        # g群中性子源項を計算\n",
        "        # g群の内部反復(ヤコビ法、ガウスザイデル法を用いる場合)\n",
        "\n",
        "    # keffと核分裂中性子源分布を更新\n",
        "    # 核分裂中性子源分布を規格化\n",
        "    # 収束判定基準を満足したら外部反復計算を終了\n",
        "    print(\"outer iteration {0}: keff = {1}\".format(outer, keff))\n",
        "\n",
        "\n",
        "plt.plot(x, flux[0,:], color=\"blue\", linestyle='dashed', label=\"fast\")\n",
        "plt.plot(x, flux[1,:], color=\"red\", label=\"thermal\" )\n",
        "plt.xlabel(\"$x$ (cm)\")\n",
        "plt.ylabel(\"$\\phi$ (a.u.)\")\n",
        "plt.legend()\n",
        "plt.show()"
      ],
      "execution_count": null,
      "outputs": []
    },
    {
      "cell_type": "markdown",
      "metadata": {
        "id": "5Mp11oIK0Umm"
      },
      "source": [
        "# 演習2 無限反射体厚さを求めてみよう\n",
        "\n",
        "第52回夏期セミナーテキストのpp.116–119を参考。\n",
        "\n",
        "- 演習1で作成した拡散計算ソルバーを__関数calcKeff()__にしてみよう\n",
        "  + 引数：断面積リスト、物質IDマップ、メッシュ幅、境界条件、y,z方向漏れのバックリング\n",
        "- 反射体の境界条件を\"完全反射(reflective)\"と\"真空(vacuum)\"に変えた際の反応度差$\\Delta \\rho$がゼロとみなせるような反射体厚さ(メッシュ数)を探索しよう\n",
        "- 計算コスト削減のため\n",
        "  + 体系の対称性を利用して「完全反射境界条件」を利用しても良い\n"
      ]
    },
    {
      "cell_type": "markdown",
      "metadata": {
        "id": "MUEKZXoKqrOi"
      },
      "source": [
        "## $k_{\\mathrm{eff}}$固有値計算の関数作成\n",
        "\n",
        "まずは、複雑なプログラムを作る前に、演習1で作成したkeff計算プログラムを関数にしてみよう。\n",
        "\n",
        "例えば、以下のような形で使えるような関数を実装して欲しい。\n",
        "\n",
        "    keff, flux = calcKeff(matlist, matid, dx, bcp, bcm, B2)\n",
        "\n",
        "具体的には、以下プログラムのうち\n",
        "\n",
        "    \"\"\"\n",
        "    途中の処理を追加する\n",
        "    \"\"\"\n",
        "の箇所について、演習1で作成したプログラムを流用し、上手く動作するように適宜修正すればよい。\n"
      ]
    },
    {
      "cell_type": "code",
      "metadata": {
        "id": "GKYZJxG6wfM6"
      },
      "source": [
        "# keffを求める関数の作成\n",
        "def calcKeff(matlist, matid, dx, bcm, bcp, B2, eps_keff=None, eps_flux=None, outer_max=None):\n",
        "    NG = matlist[0].NG\n",
        "    NX = matid.shape[0]\n",
        "\n",
        "    if eps_keff == None:\n",
        "        eps_keff = 1e-7\n",
        "    if eps_flux == None:\n",
        "        eps_flux = 1e-5\n",
        "    if outer_max == None:\n",
        "        outer_max = 1000\n",
        "\n",
        "    A0, Axm, Axp = calcMatrixA(matlist, matid, dx, bcm, bcp, B2)\n",
        "    L, U = decomposeLU(A0, Axm, Axp)\n",
        "\n",
        "    flux = np.ones((NG, NX))\n",
        "    P = np.zeros(NX)\n",
        "    keff = calcProductionRate(flux, P, matlist, matid, dx)\n",
        "    P /= keff\n",
        "\n",
        "\n",
        "    \"\"\"\n",
        "    途中の処理を追加する\n",
        "    \"\"\"\n",
        "\n",
        "    return keff, flux"
      ],
      "execution_count": null,
      "outputs": []
    },
    {
      "cell_type": "markdown",
      "metadata": {
        "id": "5xkVeidutbxZ"
      },
      "source": [
        "## 無限反射体厚さの探索\n",
        "以上でcalcKeff関数が上手く実装できたら、以下のプログラムのうち\n",
        "\n",
        "    # 境界条件を変えた時の反応度差がdelta_rhoが十分小さくなったら、反射体メッシュ数の探索を終了する\n",
        "の箇所に、適切な処理を追加することで、無限厚さとみなすことができる反射体厚さを計算してみよう。\n",
        "\n",
        "なお、本演習では\n",
        "\n",
        " ①反射体の外部境界条件を「真空(vacuum)」とした場合と、\n",
        " \n",
        " ②反射体の外部境界条件を「完全反射(reflective)」にした場合\n",
        " \n",
        "の2パターンについてkeff計算を実施し、両者の反応度差$|\\Delta \\rho|<10^{-5}$とみなせるような反射体厚さを探索することで、無限反射体厚さを推定することとする。"
      ]
    },
    {
      "cell_type": "code",
      "metadata": {
        "id": "xPz6SNd20uF6"
      },
      "source": [
        "Ncore = 20 \n",
        "# 形状バックリングの設定\n",
        "y0    = 7.1 * 4\n",
        "z0    = 57.0\n",
        "delta = 8.2 # 外挿距離\n",
        "B2 = (np.pi/(y0+2*delta))**2.0 + (np.pi/(z0+2*delta))**2.0\n",
        "\n",
        "delta_rho = np.inf\n",
        "\n",
        "for Nrefl in range(1,100):\n",
        "    NX = Ncore + Nrefl\n",
        "    matid = np.zeros( NX, dtype=np.int )\n",
        "    matid[0:Ncore] = 1  # <- KUCA C35\n",
        "    matid[-Nrefl:] = 3  # <- water\n",
        "    dx = np.full(NX, 1.0)\n",
        "\n",
        "    keff_r, flux = calcKeff(matlist, matid, dx, \"reflective\", \"reflective\", B2)\n",
        "    keff_v, flux = calcKeff(matlist, matid, dx, \"reflective\", \"vacuum\", B2)\n",
        "    delta_rho = np.abs(1/keff_v - 1/keff_r)\n",
        "    # 境界条件を変えた時の反応度差がdelta_rhoが十分小さくなったら、反射体メッシュ数の探索を終了する\n",
        "\n",
        "print(\"Reflector thickness = {0}: delta_rho = {1}\".format(dx[-Nrefl:].sum(), delta_rho) )\n",
        "\n",
        "x = dx.cumsum() - dx/2\n",
        "plt.plot(x, flux[0,:], color=\"blue\", linestyle='dashed', label=\"fast\")\n",
        "plt.plot(x, flux[1,:], color=\"red\", label=\"thermal\" )\n",
        "plt.xlabel(\"$x$ (cm)\")\n",
        "plt.ylabel(\"$\\phi$ (cm)\")\n",
        "plt.legend()\n",
        "plt.show()"
      ],
      "execution_count": null,
      "outputs": []
    },
    {
      "cell_type": "markdown",
      "metadata": {
        "id": "SIyREQyX2EC-"
      },
      "source": [
        "参考文献 [\"臨界安全ハンドブック第2版\", JAERI 1340 (1999).](https://jopss.jaea.go.jp/pdfdata/JAERI-1340.pdf#page=54)"
      ]
    },
    {
      "cell_type": "markdown",
      "metadata": {
        "id": "Arfgql3tDv8w"
      },
      "source": [
        "# 演習3 臨界寸法の探索\n",
        "\n",
        "第52回夏期セミナーテキストのpp.119–120を参考。\n",
        "\n",
        "- 演習2で作成した__関数calcKeff()__を再活用\n",
        "- 反射体厚さ(メッシュ数)は演習2で求めた値を入力\n",
        "- 反応度$\\rho \\equiv (\\frac{k_{\\mathrm{eff}} -1}{k_\\mathrm{eff}})$がゼロとみなせるような燃料厚さ(メッシュ数)を探索しよう"
      ]
    },
    {
      "cell_type": "markdown",
      "metadata": {
        "id": "yE0HOYm3u4cr"
      },
      "source": [
        "まず、以下のプログラムにおいて\n",
        "\n",
        "    Nrefl = ?? # <- 演習2で探索したメッシュ数(反射体厚さ)を指定\n",
        "の箇所には、演習2で探索した無限反射体厚さとみなせる反射体のメッシュ数を入力すること。\n",
        "\n",
        "その後、燃料領域のメッシュ数を1メッシュ($\\Delta x = 1 \\mathrm{cm}$)ずつ増加させ\n",
        "\n",
        "    # 反応度が最もゼロに近く(keffが最も1に近く)なるような、燃料メッシュ数を調べる\n",
        "の箇所に適切な処理を追加することで、**炉心半分厚さ(半分メッシュ数) Ncore_crit**の値を推定する。\n",
        "\n",
        "なお、\n",
        "    print(\"Critical thickness = {0}\".format( ??? ) )\n",
        "のについては、対称性を利用している(左側外部境界条件を完全反射として、炉心半分厚さのメッシュ数を求めている)点に注意した上で、臨界寸法を出力すること。"
      ]
    },
    {
      "cell_type": "code",
      "metadata": {
        "id": "FNp6CvOK0vcX"
      },
      "source": [
        "Nrefl = ?? # <- 演習2で探索したメッシュ数(反射体厚さ)を指定\n",
        "# 形状バックリングの設定\n",
        "y0    = 7.1 * 4\n",
        "z0    = 57.0\n",
        "delta = 8.2 # 外挿距離\n",
        "B2 = (np.pi/(y0+2*delta))**2.0 + (np.pi/(z0+2*delta))**2.0\n",
        "\n",
        "keff_crit = 0.0 \n",
        "rho_crit = np.inf\n",
        "Ncore_crit = -1 # 炉心半分厚さ(半分メッシュ数)\n",
        "\n",
        "for Ncore in range(1,50):\n",
        "    NX = Ncore + Nrefl\n",
        "    matid = np.zeros( NX, dtype=np.int )\n",
        "    matid[0:Ncore] = 1  # <- KUCA C35\n",
        "    matid[-Nrefl:] = 3  # <- water\n",
        "    dx = np.full(NX, 1.0)\n",
        "\n",
        "    keff, flux = calcKeff(matlist, matid, dx, \"reflective\", \"vacuum\", B2)\n",
        "    rho = np.abs(1/keff - 1)\n",
        "    # 反応度が最もゼロに近く(keffが最も1に近く)なるような、燃料メッシュ数を調べる\n",
        "\n",
        "print(\"Critical thickness = {0}\".format( ??? ) )\n",
        "print(\"keff = {0}\".format(keff_crit) )\n",
        "print(\"|rho| = {0}\".format(rho_crit) )"
      ],
      "execution_count": null,
      "outputs": []
    },
    {
      "cell_type": "markdown",
      "metadata": {
        "id": "_E8dcUtphps5"
      },
      "source": [
        "# 演習4 反射体種類の違いによる結合効果の違い\n",
        "\n",
        "第52回夏期セミナーテキストのpp.120–121を参考。\n",
        "\n",
        "- これまでの演習で作成した炉心を、反射体を挟んで2個並べる\n",
        "- 反射体の種類を変化させると$k_{\\mathrm{eff}}$や中性子束はどのように変化するか確認してみよう\n",
        "  + ただし、まずはy,z方向の形状バックリングはゼロとして調べてみる"
      ]
    },
    {
      "cell_type": "markdown",
      "metadata": {
        "id": "ZuxxJF1JwCdT"
      },
      "source": [
        "なお、以下2つのプログラムにおいて\n",
        "\n",
        "    Ncore = ??? # 演習3で求めた炉心半分厚さ(メッシュ数)の2倍\n",
        "    Nrefl = ??? # 演習2で求めた反射体厚さ(メッシュ数)\n",
        "の2箇所については、これまでの演習2,3で探索した臨界寸法(演習3で求めた炉心半分厚さの2倍)と、無限反射体厚さとみなせるメッシュ数、をそれぞれ入力すること。\n"
      ]
    },
    {
      "cell_type": "code",
      "metadata": {
        "id": "gDNsK80XKGv0"
      },
      "source": [
        "Ncore = ??? # 演習3で求めた炉心半分厚さ(メッシュ数)の2倍\n",
        "Nrefl = ??? # 演習2で求めた反射体厚さ(メッシュ数)\n",
        "\n",
        "# 形状バックリングの設定\n",
        "y0    = 7.1 * 4\n",
        "z0    = 57.0\n",
        "delta = 8.2 # 外挿距離\n",
        "B2 = (np.pi/(y0+2*delta))**2.0 + (np.pi/(z0+2*delta))**2.0\n",
        "# B2 = 3.105e-3\n",
        "B2 = 0.0\n",
        "\n",
        "NX = 1*Ncore + 2* Nrefl\n",
        "dx = np.full(NX, 1.0)\n",
        "matid = np.zeros( NX, dtype=np.int )\n",
        "\n",
        "matid[0:Nrefl] = 3 # <- water \n",
        "matid[Nrefl:(Nrefl+Ncore)] = 1 # <- KUCA C35 \n",
        "matid[-Nrefl:] = 3 # <- water \n",
        "keff_lwtr, flux_lwtr = calcKeff(matlist, matid, dx, \"vacuum\", \"vacuum\", B2)\n",
        "\n",
        "matid[0:Nrefl] = 6 # <- graphite\n",
        "matid[-Nrefl:] = 6 # <- graphite\n",
        "keff_grph, flux_grph = calcKeff(matlist, matid, dx, \"vacuum\", \"vacuum\", B2)\n",
        "\n",
        "x = dx.cumsum() - dx/2\n",
        "plt.plot(x, flux_lwtr[0,:], color=\"blue\", linestyle='dashed', label=\"fast\")\n",
        "plt.plot(x, flux_lwtr[1,:], color=\"red\", label=\"thermal\" )\n",
        "plt.xlabel(\"$x$ (cm)\")\n",
        "plt.ylabel(\"$\\phi$ (a.u)\")\n",
        "plt.title(\"keff = {}\".format(keff_lwtr))\n",
        "plt.legend()\n",
        "plt.show()\n",
        "\n",
        "plt.plot(x, flux_grph[0,:], color=\"blue\", linestyle='dashed', label=\"fast\")\n",
        "plt.plot(x, flux_grph[1,:], color=\"red\", label=\"thermal\" )\n",
        "plt.xlabel(\"$x$ (cm)\")\n",
        "plt.ylabel(\"$\\phi$ (a.u)\")\n",
        "plt.title(\"keff = {}\".format(keff_grph))\n",
        "plt.legend()\n",
        "plt.show()"
      ],
      "execution_count": null,
      "outputs": []
    },
    {
      "cell_type": "code",
      "metadata": {
        "id": "TU8OEhNxUz9r"
      },
      "source": [
        "Ncore = ??? # 演習3で求めた炉心半分厚さ(メッシュ数)の2倍\n",
        "Nrefl = ??? # 演習2で求めた反射体厚さ(メッシュ数)\n",
        "\n",
        "# 形状バックリングの設定\n",
        "y0    = 7.1 * 4\n",
        "z0    = 57.0\n",
        "delta = 8.2 # 外挿距離\n",
        "B2 = (np.pi/(y0+2*delta))**2.0 + (np.pi/(z0+2*delta))**2.0\n",
        "# B2 = 3.105e-3\n",
        "B2 = 0.0\n",
        "\n",
        "# 炉心を2個並べる\n",
        "NX = 2*Ncore + 4* Nrefl\n",
        "dx = np.full(NX, 1.0)\n",
        "matid = np.zeros( NX, dtype=np.int )\n",
        "\n",
        "\"\"\"\n",
        "反射体が軽水の場合についてmatidを設定\n",
        "\"\"\"\n",
        "keff_lwtr, flux_lwtr = calcKeff(matlist, matid, dx, \"vacuum\", \"vacuum\", B2)\n",
        "\n",
        "\"\"\"\n",
        "反射体を軽水から黒鉛に置き換える\n",
        "\"\"\"\n",
        "keff_grph, flux_grph = calcKeff(matlist, matid, dx, \"vacuum\", \"vacuum\", B2)\n",
        "\n",
        "\n",
        "x = dx.cumsum() - dx/2\n",
        "plt.plot(x, flux_lwtr[0,:], color=\"blue\", linestyle='dashed', label=\"fast\")\n",
        "plt.plot(x, flux_lwtr[1,:], color=\"red\", label=\"thermal\" )\n",
        "plt.xlabel(\"$x$ (cm)\")\n",
        "plt.ylabel(\"$\\phi$ (a.u)\")\n",
        "plt.title(\"keff = {}\".format(keff_lwtr))\n",
        "plt.legend()\n",
        "plt.show()\n",
        "\n",
        "plt.plot(x, flux_grph[0,:], color=\"blue\", linestyle='dashed', label=\"fast\")\n",
        "plt.plot(x, flux_grph[1,:], color=\"red\", label=\"thermal\" )\n",
        "plt.xlabel(\"$x$ (cm)\")\n",
        "plt.ylabel(\"$\\phi$ (a.u)\")\n",
        "plt.title(\"keff = {}\".format(keff_grph))\n",
        "plt.legend()\n",
        "plt.show()\n"
      ],
      "execution_count": null,
      "outputs": []
    },
    {
      "cell_type": "markdown",
      "metadata": {
        "id": "bcK37sb0F1XH"
      },
      "source": [
        "# 演習5 随伴中性子束を求めてみよう\n",
        "\n",
        "第52回夏期セミナーテキストのpp.121–127を参考。演習時間の関係上、この演習については、各自の宿題(発展課題)として取り組んでもらいたい。\n",
        "\n",
        "## 随伴中性子束$\\phi^{\\dagger}$とは？\n",
        "- ある場所・あるエネルギーで1個の中性子を体系に投入した時に 「その中性子を起源としてどれだけ核分裂反応が沢山起こるか」を定量化した量\n",
        "- __インポータンス__とも呼ばれる\n",
        "- 以下の量を求める際に随伴中性子束$\\phi^{\\dagger}$が必要\n",
        "  + 摂動論に基づく微小反応度$\\Delta \\rho$\n",
        "  + 任意核データ$\\sigma$に対する$k_{\\mathrm{eff}}$の変化量(感度係数)\n",
        "  + 一点炉動特性パラメータ$\\Lambda$, $\\beta_{\\mathrm{eff}}$\n",
        "\n",
        "## 随伴中性子束の計算方法\n",
        "- foward計算：__原因__から__結果__を推定する\n",
        "- adjoint(随伴)計算：__結果__から__原因__を逆推定する\n",
        "- 決定論的手法の場合、__断面積転置法__により容易に求めることが可能\n",
        "  * 散乱断面積の2次元行列を__転置(transpose)__する\n",
        "  * 核分裂スペクトル$\\chi_{g}$と生成断面積$\\nu \\Sigma_{\\mathrm{f},g}$を入れ替える\n",
        "\n",
        "\n",
        "\n"
      ]
    },
    {
      "cell_type": "markdown",
      "metadata": {
        "id": "taxmP_fF8Z8W"
      },
      "source": [
        "## 随伴核分裂中性子源を計算する関数\n",
        "\n",
        "随伴核分裂中性子源の空間分布$P^{\\dagger}(x)$および、その体積積分値を計算する。プログラム中では以下のようにして呼び出して使用する。\n",
        "\n",
        "    keff = calcAdjointProductionRate(flux, P, matlist, matid, dx)\n",
        "\n",
        "**断面積転置法**に基づいて、何と何を転置させればよいのか考えながら、通常(forward)の随伴核分裂中性子源の計算方法を修正してみよう。"
      ]
    },
    {
      "cell_type": "code",
      "metadata": {
        "id": "Fi2e8p4LaelH"
      },
      "source": [
        "# Adjoint計算用：核分裂中性子数空間分布と その積分値の計算\n",
        "@njit(cache=True)\n",
        "def calcAdjointProductionRate(flux, P, matlist, matid):\n",
        "    NX = matid.shape[0]\n",
        "    totalFission = 0.0\n",
        "    for i in range(NX):\n",
        "        mat0 = matlist[matid[i]]\n",
        "        fission = (mat0.nuSigF[:]*flux[:, i]).sum() # <- adjointの場合、この行を修正する必要あり\n",
        "        P[i] = fission\n",
        "        totalFission += mat0.chi[:].sum()*fission # <- adjointの場合、この行を修正する必要あり\n",
        "    return totalFission"
      ],
      "execution_count": null,
      "outputs": []
    },
    {
      "cell_type": "markdown",
      "metadata": {
        "id": "3nVJQ_QR9LL2"
      },
      "source": [
        "## エネルギーg群の随伴中性子源を計算する関数\n",
        "\n",
        "随伴核分裂中性子源分布$P^{\\dagger}(x)$、および随伴中性子束$\\phi^{\\dagger}_{g}(x)$の推定値から、第g群の随伴中性子源Qgを計算する。プログラム中では以下のようにして呼び出して使用する。\n",
        "\n",
        "    Qg = calcAdjointSourceG(g, flux, P, matlist, matid)"
      ]
    },
    {
      "cell_type": "code",
      "metadata": {
        "id": "dY2iJMr7afRj"
      },
      "source": [
        "# Adjoint計算用：g群の中性子源計算\n",
        "@njit(cache=True)\n",
        "def calcAdjointSourceG(g, flux, P, matlist, matid):\n",
        "    NG = flux.shape[0]\n",
        "    NX = flux.shape[1]\n",
        " \n",
        "    Qg = np.zeros(NX)\n",
        "    for i in range(NX):\n",
        "        mat0 = matlist[matid[i]]\n",
        "        Qg[i] = mat0.chi[g] * P[i] # <- adjointの場合、この行を修正する必要あり\n",
        "        for gg in range(NG):\n",
        "            if g != gg:\n",
        "                Qg[i] += mat0.SigS[gg,g]*flux[gg,i] # <- adjointの場合、この行を修正する必要あり\n",
        "    return Qg"
      ],
      "execution_count": null,
      "outputs": []
    },
    {
      "cell_type": "markdown",
      "metadata": {
        "id": "uZfiF1917Q1d"
      },
      "source": [
        "## $k_{\\mathrm{eff}}$随伴固有値計算の関数作成\n",
        "\n",
        "以上で①随伴核分裂中性子源と②g群の随伴中性子源を計算する関数を上手く作成した上で、$k_{\\mathrm{eff}}$随伴固有値計算を実施するための関数を作成してみよう。\n"
      ]
    },
    {
      "cell_type": "code",
      "metadata": {
        "id": "tE-HfxS-EXKh"
      },
      "source": [
        "# Adjoint keffを求める関数の作成\n",
        "def calcAdjointKeff(matlist, matid, dx, bcm, bcp, B2, eps_keff=None, eps_flux=None, outer_max=None):\n",
        "    NG = matlist[0].NG\n",
        "    NX = matid.shape[0]\n",
        "\n",
        "    if eps_keff == None:\n",
        "        eps_keff = 1e-7\n",
        "    if eps_flux == None:\n",
        "        eps_flux = 1e-5\n",
        "    if outer_max == None:\n",
        "        outer_max = 1000\n",
        "\n",
        "    A0, Axm, Axp = calcMatrixA(matlist, matid, dx, bcm, bcp, B2)\n",
        "    L, U = decomposeLU(A0, Axm, Axp)\n",
        "\n",
        "    flux = np.ones((NG, NX))\n",
        "    P = np.zeros(NX)\n",
        "    keff = calcAdjointProductionRate(flux, P, matlist, matid) # <- adjoint\n",
        "    P /= keff\n",
        "\n",
        "    \"\"\"\n",
        "    calcKeff()関数の一部をadjoint計算に変更するだけ\n",
        "    \"\"\"\n",
        "\n",
        "    return keff, flux"
      ],
      "execution_count": null,
      "outputs": []
    },
    {
      "cell_type": "code",
      "metadata": {
        "id": "cUHV3FOyRIeP"
      },
      "source": [
        "Ncore = 19 * 2\n",
        "Nrefl = 26\n",
        "# 形状バックリングの設定\n",
        "y0    = 7.1 * 4\n",
        "z0    = 57.0\n",
        "delta = 8.2 # 外挿距離\n",
        "B2 = (np.pi/(y0+2*delta))**2.0 + (np.pi/(z0+2*delta))**2.0\n",
        "\n",
        "NX = Nrefl + Ncore + Nrefl\n",
        "matid = np.full( NX, 1, dtype=np.int )\n",
        "matid[:Nrefl] = 3\n",
        "matid[-Nrefl:] = 3\n",
        "dx = np.full(NX, 1.0)\n",
        "\n",
        "bcm = \"vacuum\"\n",
        "bcp = \"vacuum\"\n",
        "keff_fwd, flux_fwd = calcKeff(matlist, matid, dx, bcm, bcp, B2)\n",
        "keff_adj, flux_adj = calcAdjointKeff(matlist, matid, dx, bcm, bcp, B2)\n",
        "                    \n",
        "x = dx.cumsum() - dx/2\n",
        "\n",
        "plt.plot(x, flux_fwd[0,:], color=\"blue\", linestyle='dashed', label=\"fast\")\n",
        "plt.plot(x, flux_fwd[1,:], color=\"red\", label=\"thermal\" )\n",
        "plt.xlabel(\"$x$ (cm)\")\n",
        "plt.ylabel(\"$\\phi$ (a.u.)\")\n",
        "plt.title(\"keff(forward) = {0:.5f}\".format(keff_fwd))\n",
        "plt.legend()\n",
        "plt.show()\n",
        "\n",
        "plt.plot(x, flux_adj[0,:], color=\"blue\", linestyle='dashed', label=\"fast\")\n",
        "plt.plot(x, flux_adj[1,:], color=\"red\", label=\"thermal\" )\n",
        "plt.xlabel(\"$x$ (cm)\")\n",
        "plt.ylabel(\"$\\phi^{\\dagger}$ (a.u)\")\n",
        "plt.title(\"keff(adjoint) = {0:.5f}\".format(keff_adj))\n",
        "plt.legend()\n",
        "plt.show()\n"
      ],
      "execution_count": null,
      "outputs": []
    },
    {
      "cell_type": "markdown",
      "metadata": {
        "id": "B5uJTmVqjHHM"
      },
      "source": [
        "## 一次摂動論に基づく制御棒価値\n",
        "\n",
        "$-\\Delta \\rho \\approx  \\frac{ \\left< \\phi^{\\dagger} \\mathbf{\\delta A} {\\phi} \\right> }{ \\left< \\phi^{\\dagger} \\mathbf{F} {\\phi} \\right> } = \\frac{\\sum_{g}^{NG} \\phi_g^{\\dagger} \\delta \\Sigma_{a,g} \\phi_g }{\\sum_{g}^{NG}\\sum_{g'}^{NG} \\phi_{g'}^{\\dagger} \\chi_{g'} \\nu \\Sigma_{f,g} \\phi_g}$\n",
        "\n",
        "\n",
        "参考資料：[千葉豪, \"炉物理プログラム演習：随伴方程式と摂動計算\"](http://roko.eng.hokudai.ac.jp/studentadm/chiba_data/rpgpro/pro_pert3.pdf)"
      ]
    },
    {
      "cell_type": "code",
      "metadata": {
        "id": "AD7cW3RijNSn"
      },
      "source": [
        "deltaSigA = np.array( [0.0, 0.01] )\n",
        "NG = flux_fwd.shape[0]\n",
        "\n",
        "Ncore = 19 * 2\n",
        "Nrefl = 26\n",
        "# 形状バックリングの設定\n",
        "y0    = 7.1 * 4\n",
        "z0    = 57.0\n",
        "delta = 8.2 # 外挿距離\n",
        "B2 = (np.pi/(y0+2*delta))**2.0 + (np.pi/(z0+2*delta))**2.0\n",
        "NX = Nrefl + Ncore + Nrefl\n",
        "matid = np.full( NX, 1, dtype=np.int )\n",
        "matid[:Nrefl] = 3\n",
        "matid[-Nrefl:] = 3\n",
        "dx = np.full(NX, 1.0)\n",
        "\n",
        "bcm = \"vacuum\"\n",
        "bcp = \"vacuum\"\n",
        "keff_fwd, flux_fwd = calcKeff(matlist, matid, dx, bcm, bcp, B2)\n",
        "keff_adj, flux_adj = calcAdjointKeff(matlist, matid, dx, bcm, bcp, B2)\n",
        "\n",
        "rodworthPT1 = np.zeros(NX) # Note: rodworth is defined as negative reactiveity to be positive\n",
        "bunbo  = 0.0\n",
        "for i in range(NX):\n",
        "    mat0 = matlist[matid[i]]\n",
        "    dx0 = dx[i]\n",
        "    for g in range(NG):\n",
        "        rodworthPT1[i]  += (flux_adj[g,i]*deltaSigA[g]*flux_fwd[g,i])*dx0\n",
        "        for gg in range(NG):\n",
        "            bunbo  += (flux_adj[gg,i]*mat0.chi[gg]*mat0.nuSigF[g]*flux_fwd[g,i]) * dx0\n",
        "\n",
        "rodworthPT1 /= bunbo\n",
        "\n",
        "rodworthDP = np.zeros(NX)\n",
        "rodworthPT = np.zeros(NX)\n",
        "for i in range(NX):\n",
        "    matid = np.full( NX, 1, dtype=np.int )\n",
        "    matid[:Nrefl] = 3\n",
        "    matid[-Nrefl:] = 3\n",
        "    if i < Nrefl or i>=(Ncore+Nrefl):\n",
        "        matid[i] = 8\n",
        "    else:\n",
        "        matid[i] = 7\n",
        "    keff_dp, flux_dp = calcKeff(matlist, matid, dx, \"vacuum\", \"vacuum\", B2)\n",
        "    rodworthDP[i] = (1/keff_dp - 1/keff_fwd)\n",
        "\n",
        "    bunbo  = 0.0\n",
        "    for g in range(NG):\n",
        "        rodworthPT[i]  += (flux_adj[g,i]*deltaSigA[g]*flux_dp[g,i])*dx0\n",
        "    for j in range(NX):\n",
        "        mat0 = matlist[matid[j]]\n",
        "        dx0 = dx[j]\n",
        "        for g in range(NG):\n",
        "            for gg in range(NG):\n",
        "                bunbo  += (flux_adj[gg,j]*mat0.chi[gg]*mat0.nuSigF[g]*flux_dp[g,j]) * dx0\n",
        "    rodworthPT[i] /= bunbo\n",
        "\n",
        "plt.plot(x, rodworthPT1, label=\"rod worth(1st-PT)\", color=\"blue\", linestyle='dashed')\n",
        "plt.plot(x, rodworthPT, label=\"rod worth(PT)\", color=\"purple\")\n",
        "plt.xlabel(\"$x$ (cm)\")\n",
        "plt.ylabel(\"$-\\Delta \\\\rho$ (dk/k)\")\n",
        "\n",
        "plt.scatter(x, rodworthDP, label=\"rod worth(DP)\", color=\"purple\", marker= \"+\")\n",
        "plt.legend()\n",
        "plt.show()\n"
      ],
      "execution_count": null,
      "outputs": []
    },
    {
      "cell_type": "markdown",
      "metadata": {
        "id": "jmZQzMVcev0p"
      },
      "source": [
        "## 補足: 摂動論による$k_{\\mathrm{eff}}$相対感度係数の算出法\n",
        "\n",
        "### ある$g$群の巨視的吸収断面積の場合\n",
        "\n",
        "$\\frac{ \\Sigma_{\\mathrm{a},g} }{k_{\\mathrm{eff}}} \\frac{\\partial k_{\\mathrm{eff}} }{ \\partial \\Sigma_{\\mathrm{a},g} } \\approx \\Sigma_{\\mathrm{a},g} \\frac{ - \\left< \\phi^{\\dagger} \\frac{\\mathbf{ \\partial A }}{\\partial \\Sigma_{\\mathrm{a\n",
        "},g} } {\\phi} \\right> }{ \\frac{1}{ k_{\\mathrm{eff}} } \\left< \\phi^{\\dagger} \\mathbf{F} {\\phi} \\right> } = -k_{\\mathrm{eff}} \\frac{ \\phi_g^{\\dagger} \\Sigma_{a,g} \\phi_g }{\\sum_{g}^{NG}\\sum_{g'}^{NG} \\phi_{g'}^{\\dagger} \\chi_{g'} \\nu \\Sigma_{f,g} \\phi_g}$"
      ]
    },
    {
      "cell_type": "code",
      "metadata": {
        "id": "fISmBy_hUljt"
      },
      "source": [
        "mattarget = 1\n",
        "gtarget   = 1\n",
        "\n",
        "Ncore = 19 * 2\n",
        "Nrefl = 26\n",
        "# 形状バックリングの設定\n",
        "y0    = 7.1 * 4\n",
        "z0    = 57.0\n",
        "delta = 8.2 # 外挿距離\n",
        "B2 = (np.pi/(y0+2*delta))**2.0 + (np.pi/(z0+2*delta))**2.0\n",
        "NX = 1*Ncore + 2* Nrefl\n",
        "dx = np.full(NX, 1.0)\n",
        "matid = np.zeros( NX, dtype=np.int )\n",
        "\n",
        "matid[0:Nrefl] = 3 # <- water \n",
        "matid[Nrefl:(Nrefl+Ncore)] = 1 # <- KUCA C35 \n",
        "matid[-Nrefl:] = 3 # <- water \n",
        "\n",
        "bcm = \"vacuum\"\n",
        "bcp = \"vacuum\"\n",
        "\n",
        "# 直接摂動法\n",
        "delta = 0.001\n",
        "\n",
        "matlist[mattarget].perturbedSigA(1+delta/2, gtarget)\n",
        "keffp, fluxp = calcKeff(matlist, matid, dx, bcm, bcp, B2)\n",
        "\n",
        "matlist[mattarget].perturbedSigA(1-delta/2, gtarget)\n",
        "keffm, fluxm = calcKeff(matlist, matid, dx, bcm, bcp, B2)\n",
        "\n",
        "matlist[mattarget].perturbedSigA(1, gtarget)\n",
        "keff_fwd, flux_fwd = calcKeff(matlist, matid, dx, bcm, bcp, B2)\n",
        "\n",
        "Sdirect = (keffp - keffm)/keff_fwd /delta\n",
        "\n",
        "\n",
        "# 一次摂動論\n",
        "#keff_fwd, flux_fwd = calcKeff(matlist, matid, dx, bcm, bcp, B2)\n",
        "keff_adj, flux_adj = calcAdjointKeff(matlist, matid, dx, bcm, bcp, B2)\n",
        "\n",
        "NG = flux.shape[0]\n",
        "NX = flux.shape[1]\n",
        "bunbo  = 0.0\n",
        "bunshi = 0.0\n",
        "for i in range(NX):\n",
        "    mat0 = matlist[matid[i]]\n",
        "    dx0 = dx[i]\n",
        "    for g in range(NG):\n",
        "        if matid[i] == mattarget and  g == gtarget:\n",
        "            bunshi  += (-flux_adj[g,i]*mat0.SigA[g]*flux_fwd[g,i])*dx0\n",
        "        for gg in range(NG):\n",
        "            bunbo  += (flux_adj[gg,i]*mat0.chi[gg]*mat0.nuSigF[g]*flux_fwd[g,i]) * dx0\n",
        "\n",
        "Spt = keff_fwd * bunshi/bunbo\n",
        "\n",
        "print(\"direct sensitivity = {:.4f}\".format(Sdirect) )\n",
        "print(\"perturbation-based sensitivity = {:.4f}\".format(Spt) )"
      ],
      "execution_count": null,
      "outputs": []
    }
  ]
}