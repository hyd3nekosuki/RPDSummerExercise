{
  "nbformat": 4,
  "nbformat_minor": 0,
  "metadata": {
    "colab": {
      "name": "MovingBlockBootstrapForReactorNoise.ipynb",
      "provenance": [],
      "collapsed_sections": [],
      "toc_visible": true,
      "authorship_tag": "ABX9TyN0QgtxRDff5DWclygGjU6U",
      "include_colab_link": true
    },
    "kernelspec": {
      "name": "python3",
      "display_name": "Python 3"
    }
  },
  "cells": [
    {
      "cell_type": "markdown",
      "metadata": {
        "id": "view-in-github",
        "colab_type": "text"
      },
      "source": [
        "<a href=\"https://colab.research.google.com/github/hyd3nekosuki/RPDSummerExercise/blob/main/MovingBlockBootstrapForReactorNoise.ipynb\" target=\"_parent\"><img src=\"https://colab.research.google.com/assets/colab-badge.svg\" alt=\"Open In Colab\"/></a>"
      ]
    },
    {
      "cell_type": "markdown",
      "metadata": {
        "id": "3vOwM_fMxL_G"
      },
      "source": [
        "# Toy problem of Feynman-$\\alpha$ method using moving block bootstrap method\n",
        "\n",
        "Reference: Tomohiro Endo, AkioYamamoto, \"Comparison of theoretical formulae and bootstrap method for statistical error estimation of Feynman-$\\alpha$ method,\" Ann. Nucl. Energy, 124, pp.606-615 (2019). DOI:[10.1016/j.anucene.2018.10.032](https://doi.org/10.1016/j.anucene.2018.10.032)"
      ]
    },
    {
      "cell_type": "code",
      "metadata": {
        "id": "R4V-3x6FDtuB"
      },
      "source": [
        "import numpy as np\n",
        "import matplotlib.pyplot as plt\n",
        "from scipy.optimize import curve_fit\n",
        "from numba import njit"
      ],
      "execution_count": 1,
      "outputs": []
    },
    {
      "cell_type": "markdown",
      "metadata": {
        "id": "4Rqv86T9D256"
      },
      "source": [
        "## Feynman-$\\alpha$ method"
      ]
    },
    {
      "cell_type": "code",
      "metadata": {
        "id": "EYmMBYnb-bMG"
      },
      "source": [
        "@njit(cache=True)\n",
        "def calcY(count, T0, klist):\n",
        "    NY = len(klist)\n",
        "    T = klist*T0\n",
        "    Y = np.zeros(NY)\n",
        "    Yerr = np.zeros(NY)\n",
        "    for i in range(len(klist)):\n",
        "        k = klist[i]\n",
        "        Nk=int( np.floor(len(count)/k) )\n",
        "        ck = np.zeros(Nk)    \n",
        "        for j in range(k):\n",
        "            ck += count[j::k][:Nk]\n",
        "        ave = np.mean(ck)\n",
        "        var = Nk/(Nk-1)* np.var(ck)\n",
        "        y = var/ave - 1\n",
        "        Y[i] = y\n",
        "        Yerr[i] = (y+1)*np.sqrt(y*(2*y+1)*(5*y+2)/(Nk*(y+1)*(y+1)*ave) +2/(Nk-1)) # Simplified error estimation for Y value\n",
        "    return T, Y, Yerr"
      ],
      "execution_count": 2,
      "outputs": []
    },
    {
      "cell_type": "code",
      "metadata": {
        "id": "8ff7NFeGspRg"
      },
      "source": [
        "@njit(cache=True)\n",
        "def Yfunc(T, alpha, Yinf, c):\n",
        "    return Yinf * (1.0 - (1.0 - np.exp(-alpha*T))/(alpha*T)) +c*T"
      ],
      "execution_count": 3,
      "outputs": []
    },
    {
      "cell_type": "markdown",
      "metadata": {
        "id": "PclEI8E6Dpxo"
      },
      "source": [
        "## Analog Monte Carlo to simulate zero power reactor noise"
      ]
    },
    {
      "cell_type": "code",
      "metadata": {
        "id": "nq2ul3zplaJ9"
      },
      "source": [
        "@njit(cache=True)\n",
        "def simulateReactorNoise(NSource, T0, NT, SigS, SigF, SigC):\n",
        "    nuave = 2.4\n",
        "    numax = 5\n",
        "    SigA = SigF + SigC\n",
        "    SigT = SigS + SigA\n",
        "\n",
        "    ps = SigS/SigT\n",
        "    pf = SigF/SigT\n",
        "    pc = SigC/SigT\n",
        "    v = 2200e2\n",
        "\n",
        "    kinf = nuave*SigF/SigA\n",
        "    rho = 1 - 1/kinf\n",
        "    Lambda = 1/(v*nuave*SigF)\n",
        "    alpha = (-rho) / Lambda\n",
        "    print(\"kinf, rho, Lambda, alpha\")\n",
        "    print(kinf, rho, Lambda, alpha)\n",
        "\n",
        "    NBank = 1000\n",
        "    tcut = 10\n",
        "    texp = T0*NT\n",
        "    t = np.zeros(NBank)\n",
        "    tnext = np.zeros(NBank)\n",
        "    count = np.zeros(NT, dtype=np.int64)\n",
        "\n",
        "    for i in range(NSource):\n",
        "        Nneutrons = 1\n",
        "        t[0] = np.random.uniform(-tcut, texp)\n",
        "        while Nneutrons > 0:\n",
        "            inext = 0\n",
        "            for i in range(Nneutrons):\n",
        "                tnow = t[i]\n",
        "                tl = -1.0/SigT * np.log(1.0 - np.random.rand())\n",
        "                tnow += tl/v\n",
        "                if tnow <= texp:\n",
        "                    xi = np.random.rand()\n",
        "                    if xi < ps:        # scattering\n",
        "                        tnext[inext] = tnow\n",
        "                        inext += 1\n",
        "                    elif xi < (ps+pc): # capture = detection\n",
        "                        if tnow >0.0:\n",
        "                            count[ int(tnow/T0) ] += 1\n",
        "                    else: # fission\n",
        "                        nu = np.random.binomial(numax, nuave/numax)\n",
        "                        tnext[inext:(inext+nu)] = tnow\n",
        "                        inext += nu\n",
        "            \n",
        "            Nneutrons = inext\n",
        "            t = tnext.copy()  \n",
        "\n",
        "    return count"
      ],
      "execution_count": 4,
      "outputs": []
    },
    {
      "cell_type": "markdown",
      "metadata": {
        "id": "q4fU-7R-ELdW"
      },
      "source": [
        "## Moving block bootstrap method"
      ]
    },
    {
      "cell_type": "code",
      "metadata": {
        "id": "fe45aPDCsUP-"
      },
      "source": [
        "@njit(cache=True)\n",
        "def movingBlockBootstrap(count, klist):\n",
        "    kmax = np.max(klist)\n",
        "    imax = len(count)\n",
        "    c = np.append(count, count[0:kmax])\n",
        "    Nblock = np.int( np.ceil(imax/kmax) )\n",
        "    cbs = np.zeros_like(c)\n",
        "\n",
        "    for i in range(Nblock):\n",
        "        xi = np.random.randint(0, imax)\n",
        "        cbs[(i*kmax):((i+1)*kmax)] = c[xi:(xi+kmax)].copy()\n",
        "    return cbs[:imax]"
      ],
      "execution_count": 5,
      "outputs": []
    },
    {
      "cell_type": "markdown",
      "metadata": {
        "id": "vYFznGaGsT4B"
      },
      "source": [
        "## Numerical example of moving block bootstrap method"
      ]
    },
    {
      "cell_type": "code",
      "metadata": {
        "id": "PUNHqzISM48V",
        "colab": {
          "base_uri": "https://localhost:8080/"
        },
        "outputId": "e5701f28-4787-48a4-db22-47847b93b425"
      },
      "source": [
        "# Numerical experiment of zero power reactor noize\n",
        "NSource = 100000\n",
        "T0 = 2e-5\n",
        "NT = 1000000\n",
        "SigS = 1.0\n",
        "SigF = 0.04\n",
        "SigC = 0.062\n",
        "count = simulateReactorNoise(NSource, T0, NT, SigS, SigF, SigC)\n",
        "\n",
        "\n",
        "# Feynman-alpha method\n",
        "klist = np.append( np.arange(1,11,1, dtype=np.int32), np.logspace(1, 13, 50, base=2, dtype= np.int32) ) \n",
        "klist = np.unique(klist)\n",
        "T, Y, Yerr = calcY(count, T0, klist)\n",
        "popt, pcov = curve_fit(Yfunc, T, Y, sigma=Yerr, absolute_sigma=True)\n",
        "\n",
        "\n",
        "# Moving block bootstrap method\n",
        "NB = 1000 # sample size of bootstrap replicates, NB>=1000 is recommended\n",
        "NB =  np.max( [len(Y)+len(popt), NB] )\n",
        "print(\"Bootstrap resample size = {}\".format(NB))\n",
        "Ybs = np.zeros( (NB, len(Y)) )\n",
        "for b in range(NB):\n",
        "    cbs = movingBlockBootstrap(count, klist)\n",
        "    T, Ybs[b,:], tmp = calcY(cbs, T0, klist)\n",
        "\n",
        "Ycov = np.cov(Ybs.T, ddof=1)\n",
        "Ycor = np.corrcoef(Ybs.T)\n",
        "plt.imshow(Ycor, cmap=\"seismic\")\n",
        "plt.clim([-1.0, 1.0])\n",
        "plt.colorbar()\n",
        "plt.show()\n",
        "\n",
        "p0 = popt.copy()\n",
        "poptbs = np.zeros((NB,len(p0)))\n",
        "for b in range(NB):\n",
        "    poptbs[b,:], pcovbs = curve_fit(Yfunc, T, Ybs[b,:], p0=p0, sigma=Ycov, absolute_sigma=True)\n",
        "\n",
        "poptave = np.mean(poptbs, axis=0)\n",
        "poptstd = np.std(poptbs, ddof=1, axis=0)\n",
        "label = [\"alpha\", \"Yinf\", \"c\"]\n",
        "for i in range(len(poptave)):\n",
        "    print(\"{0} = {1} +/- {2}\".format(label[i], poptave[i], poptstd[i]))\n",
        "\n",
        "alpha_ave = np.mean(poptbs[:,0])\n",
        "alpha_err = np.std(poptbs[:,0], ddof=1)\n",
        "print(\"alpha = [{0} - {1}]\".format(np.quantile(poptbs[:,0], 0.025), np.quantile(poptbs[:,0], 0.975)))\n",
        "plt.hist(poptbs[:,0], bins=50)\n",
        "plt.xlabel(\"$\\\\alpha$ (1/s)\")\n",
        "plt.plot()\n",
        "plt.show()\n",
        "\n",
        "plt.scatter(T, Ybs.mean(axis=0), marker=\"o\", s=10, color=\"blue\")\n",
        "plt.fill_between(T, np.quantile(Ybs, 0.025, axis=0), np.quantile(Ybs, 0.975, axis=0), color=\"blue\", alpha=0.4)\n",
        "plt.plot(T, Yfunc(T, *poptave), \"r-\", label=\"$\\\\alpha$ ={0:.0f} $\\pm$ {1:.0f}\".format(alpha_ave, alpha_err))\n",
        "plt.xscale(\"log\")\n",
        "plt.xlabel(\"$T$ (s)\")\n",
        "plt.ylabel(\"$Y(T)$\")\n",
        "plt.legend()\n",
        "plt.show()\n",
        "\n",
        "plt.scatter(T, Ybs.std(axis=0, ddof=1), marker=\"o\", s=10, color=\"blue\", label=\"bootstrap\")\n",
        "plt.scatter(T, Yerr, marker=\"+\", s=10, color=\"red\", label=\"simplified\")\n",
        "plt.xscale(\"log\")\n",
        "plt.xlabel(\"$T$ (s)\")\n",
        "plt.ylabel(\"$\\sigma_{Y}(T)$\")\n",
        "plt.legend()\n",
        "plt.show()"
      ],
      "execution_count": null,
      "outputs": [
        {
          "output_type": "stream",
          "name": "stdout",
          "text": [
            "kinf, rho, Lambda, alpha\n",
            "0.9411764705882353 -0.0625 4.734848484848485e-05 1320.0\n",
            "Bootstrap resample size = 1000\n"
          ]
        }
      ]
    }
  ]
}